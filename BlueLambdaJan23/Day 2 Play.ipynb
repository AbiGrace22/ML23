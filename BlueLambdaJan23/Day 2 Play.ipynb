{
 "cells": [
  {
   "cell_type": "markdown",
   "id": "2099b798",
   "metadata": {},
   "source": []
  },
  {
   "cell_type": "code",
   "execution_count": 4,
   "id": "f533c6f1",
   "metadata": {},
   "outputs": [],
   "source": [
    "name=\"abi eni oyenekan\""
   ]
  },
  {
   "cell_type": "code",
   "execution_count": 5,
   "id": "393a3c9e",
   "metadata": {},
   "outputs": [
    {
     "data": {
      "text/plain": [
       "'abi eni oyenekan'"
      ]
     },
     "execution_count": 5,
     "metadata": {},
     "output_type": "execute_result"
    }
   ],
   "source": [
    "name"
   ]
  },
  {
   "cell_type": "code",
   "execution_count": 7,
   "id": "a176ae1f",
   "metadata": {},
   "outputs": [
    {
     "data": {
      "text/plain": [
       "'Abi Eni Oyenekan'"
      ]
     },
     "execution_count": 7,
     "metadata": {},
     "output_type": "execute_result"
    }
   ],
   "source": [
    "name.title()"
   ]
  },
  {
   "cell_type": "code",
   "execution_count": 8,
   "id": "1eee330a",
   "metadata": {},
   "outputs": [
    {
     "data": {
      "text/plain": [
       "'Abi eni oyenekan'"
      ]
     },
     "execution_count": 8,
     "metadata": {},
     "output_type": "execute_result"
    }
   ],
   "source": [
    "name.capitalize()"
   ]
  },
  {
   "cell_type": "code",
   "execution_count": 9,
   "id": "4c01f6f3",
   "metadata": {},
   "outputs": [
    {
     "data": {
      "text/plain": [
       "'abi eni oyenekan'"
      ]
     },
     "execution_count": 9,
     "metadata": {},
     "output_type": "execute_result"
    }
   ],
   "source": [
    "name.casefold()"
   ]
  },
  {
   "cell_type": "code",
   "execution_count": 12,
   "id": "ba4a6ebc",
   "metadata": {},
   "outputs": [
    {
     "data": {
      "text/plain": [
       "'ABI ENI OYENEKAN'"
      ]
     },
     "execution_count": 12,
     "metadata": {},
     "output_type": "execute_result"
    }
   ],
   "source": [
    "name.upper()"
   ]
  },
  {
   "cell_type": "code",
   "execution_count": 13,
   "id": "95090a1a",
   "metadata": {},
   "outputs": [
    {
     "data": {
      "text/plain": [
       "3"
      ]
     },
     "execution_count": 13,
     "metadata": {},
     "output_type": "execute_result"
    }
   ],
   "source": [
    "name.count(\"n\")"
   ]
  },
  {
   "cell_type": "code",
   "execution_count": 16,
   "id": "882a215e",
   "metadata": {},
   "outputs": [
    {
     "data": {
      "text/plain": [
       "['abi', 'eni', 'oyenekan']"
      ]
     },
     "execution_count": 16,
     "metadata": {},
     "output_type": "execute_result"
    }
   ],
   "source": [
    "name.split()"
   ]
  },
  {
   "cell_type": "code",
   "execution_count": 17,
   "id": "b568a7d6",
   "metadata": {},
   "outputs": [
    {
     "data": {
      "text/plain": [
       "['', 'bi eni oyenek', 'n']"
      ]
     },
     "execution_count": 17,
     "metadata": {},
     "output_type": "execute_result"
    }
   ],
   "source": [
    "name.split(\"a\")"
   ]
  },
  {
   "cell_type": "code",
   "execution_count": 18,
   "id": "bff718f3",
   "metadata": {},
   "outputs": [],
   "source": [
    "date = \"02/27/2023\""
   ]
  },
  {
   "cell_type": "code",
   "execution_count": 20,
   "id": "8ba297e6",
   "metadata": {},
   "outputs": [],
   "source": [
    "sp = date.split(\"/\")"
   ]
  },
  {
   "cell_type": "code",
   "execution_count": 21,
   "id": "c1ffa7c5",
   "metadata": {},
   "outputs": [
    {
     "data": {
      "text/plain": [
       "'27/02/2023'"
      ]
     },
     "execution_count": 21,
     "metadata": {},
     "output_type": "execute_result"
    }
   ],
   "source": [
    "\"/\".join([sp[1], sp[0], sp[2]])"
   ]
  },
  {
   "cell_type": "code",
   "execution_count": 22,
   "id": "ba65a61c",
   "metadata": {},
   "outputs": [
    {
     "data": {
      "text/plain": [
       "'abi eni oyenekan'"
      ]
     },
     "execution_count": 22,
     "metadata": {},
     "output_type": "execute_result"
    }
   ],
   "source": [
    "name"
   ]
  },
  {
   "cell_type": "code",
   "execution_count": 27,
   "id": "97e2426c",
   "metadata": {},
   "outputs": [
    {
     "data": {
      "text/plain": [
       "'i'"
      ]
     },
     "execution_count": 27,
     "metadata": {},
     "output_type": "execute_result"
    }
   ],
   "source": [
    "name[-14]"
   ]
  },
  {
   "cell_type": "code",
   "execution_count": 28,
   "id": "722f5ea9",
   "metadata": {},
   "outputs": [
    {
     "data": {
      "text/plain": [
       "'ieioe'"
      ]
     },
     "execution_count": 28,
     "metadata": {},
     "output_type": "execute_result"
    }
   ],
   "source": [
    "name[2:12:2]"
   ]
  },
  {
   "cell_type": "code",
   "execution_count": 29,
   "id": "e73460ec",
   "metadata": {},
   "outputs": [
    {
     "data": {
      "text/plain": [
       "'i eni oyen'"
      ]
     },
     "execution_count": 29,
     "metadata": {},
     "output_type": "execute_result"
    }
   ],
   "source": [
    "name[2:12]"
   ]
  },
  {
   "cell_type": "code",
   "execution_count": 30,
   "id": "72ddbb0a",
   "metadata": {},
   "outputs": [
    {
     "data": {
      "text/plain": [
       "'anen'"
      ]
     },
     "execution_count": 30,
     "metadata": {},
     "output_type": "execute_result"
    }
   ],
   "source": [
    "name[::5]"
   ]
  },
  {
   "cell_type": "code",
   "execution_count": 31,
   "id": "4669d96e",
   "metadata": {},
   "outputs": [],
   "source": [
    "name = \"mum\""
   ]
  },
  {
   "cell_type": "code",
   "execution_count": 33,
   "id": "ec65f2c4",
   "metadata": {},
   "outputs": [],
   "source": [
    "name = \"ABIOLA\""
   ]
  },
  {
   "cell_type": "code",
   "execution_count": 34,
   "id": "d549f3ae",
   "metadata": {},
   "outputs": [
    {
     "data": {
      "text/plain": [
       "'ALOIBA'"
      ]
     },
     "execution_count": 34,
     "metadata": {},
     "output_type": "execute_result"
    }
   ],
   "source": [
    "name[::-1]"
   ]
  },
  {
   "cell_type": "code",
   "execution_count": null,
   "id": "89a16483",
   "metadata": {},
   "outputs": [],
   "source": []
  }
 ],
 "metadata": {
  "kernelspec": {
   "display_name": "Python 3 (ipykernel)",
   "language": "python",
   "name": "python3"
  },
  "language_info": {
   "codemirror_mode": {
    "name": "ipython",
    "version": 3
   },
   "file_extension": ".py",
   "mimetype": "text/x-python",
   "name": "python",
   "nbconvert_exporter": "python",
   "pygments_lexer": "ipython3",
   "version": "3.9.13"
  }
 },
 "nbformat": 4,
 "nbformat_minor": 5
}
